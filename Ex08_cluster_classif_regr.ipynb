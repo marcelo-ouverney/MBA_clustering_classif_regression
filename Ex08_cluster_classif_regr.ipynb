{
 "cells": [
  {
   "cell_type": "markdown",
   "metadata": {},
   "source": [
    "### Import dos Pacotes"
   ]
  },
  {
   "cell_type": "code",
   "execution_count": 27,
   "metadata": {},
   "outputs": [],
   "source": [
    "# pre-processamento e pacotes básicos\n",
    "import pandas as pd\n",
    "import matplotlib.pyplot as plt\n",
    "from tqdm import tqdm\n",
    "import numpy as np\n",
    "from collections import Counter\n",
    "from sklearn.preprocessing import MinMaxScaler\n",
    "from sklearn.decomposition import PCA\n",
    "import math\n",
    "\n",
    "# clustering\n",
    "from sklearn.cluster import DBSCAN\n",
    "from sklearn.cluster import KMeans\n",
    "from sklearn.metrics import silhouette_score, silhouette_samples\n",
    "from sklearn.neighbors import NearestNeighbors\n",
    "\n",
    "# preparação de dados para ml e avaliação de modelos\n",
    "from sklearn.model_selection import train_test_split\n",
    "from sklearn.model_selection import GridSearchCV\n",
    "from sklearn.metrics import classification_report, plot_confusion_matrix, accuracy_score, mean_squared_error\n",
    "from sklearn import metrics\n",
    "from sklearn.model_selection import KFold\n",
    "from sklearn.model_selection import cross_val_score\n",
    "from sklearn.pipeline import Pipeline\n",
    "\n",
    "# classificadores\n",
    "from sklearn.neighbors import KNeighborsClassifier\n",
    "from sklearn.naive_bayes import GaussianNB\n",
    "from sklearn.tree import DecisionTreeClassifier\n",
    "from sklearn.svm import SVC\n",
    "\n",
    "# regressores\n",
    "from sklearn.linear_model import LinearRegression\n",
    "from sklearn.linear_model import Ridge\n",
    "from sklearn.linear_model import Lasso\n",
    "from sklearn.linear_model import ElasticNet\n",
    "from sklearn.tree import DecisionTreeRegressor\n",
    "from sklearn.neighbors import KNeighborsRegressor\n",
    "from sklearn.ensemble import RandomForestRegressor\n",
    "from sklearn.ensemble import AdaBoostRegressor\n",
    "from sklearn.svm import SVR"
   ]
  },
  {
   "cell_type": "markdown",
   "metadata": {},
   "source": [
    "### Import e Análises e Tratamentos Iniciais dos Dados"
   ]
  },
  {
   "cell_type": "markdown",
   "metadata": {},
   "source": [
    "- Vamos primeiramente fazer o import dos dados do exercício em um dataframe:"
   ]
  },
  {
   "cell_type": "code",
   "execution_count": 2,
   "metadata": {},
   "outputs": [],
   "source": [
    "df = pd.read_csv('TrabalhoEx8.csv', sep=';')"
   ]
  },
  {
   "cell_type": "markdown",
   "metadata": {},
   "source": [
    "- Em seguida, vamos analisar os principais aspectos do dataframe:"
   ]
  },
  {
   "cell_type": "code",
   "execution_count": 3,
   "metadata": {},
   "outputs": [
    {
     "data": {
      "text/plain": [
       "(20640, 10)"
      ]
     },
     "execution_count": 3,
     "metadata": {},
     "output_type": "execute_result"
    }
   ],
   "source": [
    "# visualizando a quantidade de registros e colunas:\n",
    "df.shape"
   ]
  },
  {
   "cell_type": "code",
   "execution_count": 4,
   "metadata": {},
   "outputs": [
    {
     "data": {
      "text/plain": [
       "Index(['V1', 'V2', 'V3', 'V4', 'V5', 'V6', 'V7', 'V8', 'V9', 'V10'], dtype='object')"
      ]
     },
     "execution_count": 4,
     "metadata": {},
     "output_type": "execute_result"
    }
   ],
   "source": [
    "# visualizando os nomes das colunas\n",
    "df.columns"
   ]
  },
  {
   "cell_type": "markdown",
   "metadata": {},
   "source": [
    "- Como na descrição do exercício, os dados estão com as colunas anonimizadas. Vamos visualizar as primeiras linhas do df:"
   ]
  },
  {
   "cell_type": "code",
   "execution_count": 5,
   "metadata": {},
   "outputs": [
    {
     "data": {
      "text/html": [
       "<div>\n",
       "<style scoped>\n",
       "    .dataframe tbody tr th:only-of-type {\n",
       "        vertical-align: middle;\n",
       "    }\n",
       "\n",
       "    .dataframe tbody tr th {\n",
       "        vertical-align: top;\n",
       "    }\n",
       "\n",
       "    .dataframe thead th {\n",
       "        text-align: right;\n",
       "    }\n",
       "</style>\n",
       "<table border=\"1\" class=\"dataframe\">\n",
       "  <thead>\n",
       "    <tr style=\"text-align: right;\">\n",
       "      <th></th>\n",
       "      <th>V1</th>\n",
       "      <th>V2</th>\n",
       "      <th>V3</th>\n",
       "      <th>V4</th>\n",
       "      <th>V5</th>\n",
       "      <th>V6</th>\n",
       "      <th>V7</th>\n",
       "      <th>V8</th>\n",
       "      <th>V9</th>\n",
       "      <th>V10</th>\n",
       "    </tr>\n",
       "  </thead>\n",
       "  <tbody>\n",
       "    <tr>\n",
       "      <th>0</th>\n",
       "      <td>-122.23</td>\n",
       "      <td>452600.0</td>\n",
       "      <td>129.0</td>\n",
       "      <td>41.0</td>\n",
       "      <td>880.0</td>\n",
       "      <td>D</td>\n",
       "      <td>126.0</td>\n",
       "      <td>322.0</td>\n",
       "      <td>83.252</td>\n",
       "      <td>37.88</td>\n",
       "    </tr>\n",
       "    <tr>\n",
       "      <th>1</th>\n",
       "      <td>-122.22</td>\n",
       "      <td>358500.0</td>\n",
       "      <td>1106.0</td>\n",
       "      <td>21.0</td>\n",
       "      <td>7099.0</td>\n",
       "      <td>D</td>\n",
       "      <td>1138.0</td>\n",
       "      <td>2401.0</td>\n",
       "      <td>83.014</td>\n",
       "      <td>37.86</td>\n",
       "    </tr>\n",
       "    <tr>\n",
       "      <th>2</th>\n",
       "      <td>-122.24</td>\n",
       "      <td>352100.0</td>\n",
       "      <td>190.0</td>\n",
       "      <td>52.0</td>\n",
       "      <td>1467.0</td>\n",
       "      <td>D</td>\n",
       "      <td>177.0</td>\n",
       "      <td>496.0</td>\n",
       "      <td>72.574</td>\n",
       "      <td>37.85</td>\n",
       "    </tr>\n",
       "    <tr>\n",
       "      <th>3</th>\n",
       "      <td>-122.25</td>\n",
       "      <td>341300.0</td>\n",
       "      <td>235.0</td>\n",
       "      <td>52.0</td>\n",
       "      <td>1274.0</td>\n",
       "      <td>D</td>\n",
       "      <td>219.0</td>\n",
       "      <td>558.0</td>\n",
       "      <td>56.431</td>\n",
       "      <td>37.85</td>\n",
       "    </tr>\n",
       "    <tr>\n",
       "      <th>4</th>\n",
       "      <td>-122.25</td>\n",
       "      <td>342200.0</td>\n",
       "      <td>280.0</td>\n",
       "      <td>52.0</td>\n",
       "      <td>1627.0</td>\n",
       "      <td>D</td>\n",
       "      <td>259.0</td>\n",
       "      <td>565.0</td>\n",
       "      <td>38.462</td>\n",
       "      <td>37.85</td>\n",
       "    </tr>\n",
       "  </tbody>\n",
       "</table>\n",
       "</div>"
      ],
      "text/plain": [
       "       V1        V2      V3    V4      V5 V6      V7      V8      V9    V10\n",
       "0 -122.23  452600.0   129.0  41.0   880.0  D   126.0   322.0  83.252  37.88\n",
       "1 -122.22  358500.0  1106.0  21.0  7099.0  D  1138.0  2401.0  83.014  37.86\n",
       "2 -122.24  352100.0   190.0  52.0  1467.0  D   177.0   496.0  72.574  37.85\n",
       "3 -122.25  341300.0   235.0  52.0  1274.0  D   219.0   558.0  56.431  37.85\n",
       "4 -122.25  342200.0   280.0  52.0  1627.0  D   259.0   565.0  38.462  37.85"
      ]
     },
     "execution_count": 5,
     "metadata": {},
     "output_type": "execute_result"
    }
   ],
   "source": [
    "# visualizando as primeiras linhas:\n",
    "df.head()"
   ]
  },
  {
   "cell_type": "markdown",
   "metadata": {},
   "source": [
    "- Aparentemnte temos dados numéricos contínuos para todas as variáveis, exceto a V6, que aparenta ser categórica. Vamos analisar um pouco mais o tipo dos dados:"
   ]
  },
  {
   "cell_type": "code",
   "execution_count": 6,
   "metadata": {},
   "outputs": [
    {
     "name": "stdout",
     "output_type": "stream",
     "text": [
      "<class 'pandas.core.frame.DataFrame'>\n",
      "RangeIndex: 20640 entries, 0 to 20639\n",
      "Data columns (total 10 columns):\n",
      "V1     20640 non-null float64\n",
      "V2     20640 non-null float64\n",
      "V3     20433 non-null float64\n",
      "V4     20640 non-null float64\n",
      "V5     20640 non-null float64\n",
      "V6     20640 non-null object\n",
      "V7     20640 non-null float64\n",
      "V8     20640 non-null float64\n",
      "V9     20640 non-null float64\n",
      "V10    20640 non-null float64\n",
      "dtypes: float64(9), object(1)\n",
      "memory usage: 1.6+ MB\n"
     ]
    }
   ],
   "source": [
    "df.info()"
   ]
  },
  {
   "cell_type": "markdown",
   "metadata": {},
   "source": [
    "- Vemos que, de fato, todos os dados são do tipo ponto flutuante, exceto a coluna V6, que contém objeto. \n",
    "- Também já observamos que a coluna **V3 tem dados faltantes**. Vamos, tratar estes dados faltantes a seguir. Como são cerca de 200 casos, dentre um total de mais de 20k (cerca de 1%), optamos por **excluir estes dados**."
   ]
  },
  {
   "cell_type": "code",
   "execution_count": 7,
   "metadata": {},
   "outputs": [],
   "source": [
    "# excluindo dados faltante\n",
    "df.dropna(inplace=True)"
   ]
  },
  {
   "cell_type": "markdown",
   "metadata": {},
   "source": [
    "- Analisando os dados categóricos da coluna V6, temos:"
   ]
  },
  {
   "cell_type": "code",
   "execution_count": 8,
   "metadata": {},
   "outputs": [
    {
     "data": {
      "text/plain": [
       "A    9034\n",
       "B    6496\n",
       "E    2628\n",
       "D    2270\n",
       "C       5\n",
       "Name: V6, dtype: int64"
      ]
     },
     "execution_count": 8,
     "metadata": {},
     "output_type": "execute_result"
    }
   ],
   "source": [
    "dfV6 = df['V6']\n",
    "dfV6.value_counts()"
   ]
  },
  {
   "cell_type": "code",
   "execution_count": 9,
   "metadata": {},
   "outputs": [
    {
     "data": {
      "text/plain": [
       "(20433,)"
      ]
     },
     "execution_count": 9,
     "metadata": {},
     "output_type": "execute_result"
    }
   ],
   "source": [
    "dfV6.shape"
   ]
  },
  {
   "cell_type": "markdown",
   "metadata": {},
   "source": [
    "- Vamos em seguida analisar as principais estatísticas dos dados numéricos:"
   ]
  },
  {
   "cell_type": "code",
   "execution_count": 10,
   "metadata": {},
   "outputs": [
    {
     "data": {
      "text/html": [
       "<div>\n",
       "<style scoped>\n",
       "    .dataframe tbody tr th:only-of-type {\n",
       "        vertical-align: middle;\n",
       "    }\n",
       "\n",
       "    .dataframe tbody tr th {\n",
       "        vertical-align: top;\n",
       "    }\n",
       "\n",
       "    .dataframe thead th {\n",
       "        text-align: right;\n",
       "    }\n",
       "</style>\n",
       "<table border=\"1\" class=\"dataframe\">\n",
       "  <thead>\n",
       "    <tr style=\"text-align: right;\">\n",
       "      <th></th>\n",
       "      <th>V1</th>\n",
       "      <th>V2</th>\n",
       "      <th>V3</th>\n",
       "      <th>V4</th>\n",
       "      <th>V5</th>\n",
       "      <th>V7</th>\n",
       "      <th>V8</th>\n",
       "      <th>V9</th>\n",
       "      <th>V10</th>\n",
       "    </tr>\n",
       "  </thead>\n",
       "  <tbody>\n",
       "    <tr>\n",
       "      <th>count</th>\n",
       "      <td>20433.000000</td>\n",
       "      <td>20433.000000</td>\n",
       "      <td>20433.000000</td>\n",
       "      <td>20433.000000</td>\n",
       "      <td>20433.000000</td>\n",
       "      <td>20433.000000</td>\n",
       "      <td>20433.000000</td>\n",
       "      <td>20433.000000</td>\n",
       "      <td>20433.000000</td>\n",
       "    </tr>\n",
       "    <tr>\n",
       "      <th>mean</th>\n",
       "      <td>-119.570689</td>\n",
       "      <td>206864.413155</td>\n",
       "      <td>537.870553</td>\n",
       "      <td>28.633094</td>\n",
       "      <td>2636.504233</td>\n",
       "      <td>499.433465</td>\n",
       "      <td>1424.946949</td>\n",
       "      <td>33.660475</td>\n",
       "      <td>35.633221</td>\n",
       "    </tr>\n",
       "    <tr>\n",
       "      <th>std</th>\n",
       "      <td>2.003578</td>\n",
       "      <td>115435.667099</td>\n",
       "      <td>421.385070</td>\n",
       "      <td>12.591805</td>\n",
       "      <td>2185.269567</td>\n",
       "      <td>382.299226</td>\n",
       "      <td>1133.208490</td>\n",
       "      <td>21.859628</td>\n",
       "      <td>2.136348</td>\n",
       "    </tr>\n",
       "    <tr>\n",
       "      <th>min</th>\n",
       "      <td>-124.350000</td>\n",
       "      <td>14999.000000</td>\n",
       "      <td>1.000000</td>\n",
       "      <td>1.000000</td>\n",
       "      <td>2.000000</td>\n",
       "      <td>1.000000</td>\n",
       "      <td>3.000000</td>\n",
       "      <td>0.499900</td>\n",
       "      <td>32.540000</td>\n",
       "    </tr>\n",
       "    <tr>\n",
       "      <th>25%</th>\n",
       "      <td>-121.800000</td>\n",
       "      <td>119500.000000</td>\n",
       "      <td>296.000000</td>\n",
       "      <td>18.000000</td>\n",
       "      <td>1450.000000</td>\n",
       "      <td>280.000000</td>\n",
       "      <td>787.000000</td>\n",
       "      <td>19.961000</td>\n",
       "      <td>33.930000</td>\n",
       "    </tr>\n",
       "    <tr>\n",
       "      <th>50%</th>\n",
       "      <td>-118.490000</td>\n",
       "      <td>179700.000000</td>\n",
       "      <td>435.000000</td>\n",
       "      <td>29.000000</td>\n",
       "      <td>2127.000000</td>\n",
       "      <td>409.000000</td>\n",
       "      <td>1166.000000</td>\n",
       "      <td>31.875000</td>\n",
       "      <td>34.260000</td>\n",
       "    </tr>\n",
       "    <tr>\n",
       "      <th>75%</th>\n",
       "      <td>-118.010000</td>\n",
       "      <td>264700.000000</td>\n",
       "      <td>647.000000</td>\n",
       "      <td>37.000000</td>\n",
       "      <td>3143.000000</td>\n",
       "      <td>604.000000</td>\n",
       "      <td>1722.000000</td>\n",
       "      <td>45.208000</td>\n",
       "      <td>37.720000</td>\n",
       "    </tr>\n",
       "    <tr>\n",
       "      <th>max</th>\n",
       "      <td>-114.310000</td>\n",
       "      <td>500001.000000</td>\n",
       "      <td>6445.000000</td>\n",
       "      <td>52.000000</td>\n",
       "      <td>39320.000000</td>\n",
       "      <td>6082.000000</td>\n",
       "      <td>35682.000000</td>\n",
       "      <td>150.001000</td>\n",
       "      <td>41.950000</td>\n",
       "    </tr>\n",
       "  </tbody>\n",
       "</table>\n",
       "</div>"
      ],
      "text/plain": [
       "                 V1             V2            V3            V4            V5  \\\n",
       "count  20433.000000   20433.000000  20433.000000  20433.000000  20433.000000   \n",
       "mean    -119.570689  206864.413155    537.870553     28.633094   2636.504233   \n",
       "std        2.003578  115435.667099    421.385070     12.591805   2185.269567   \n",
       "min     -124.350000   14999.000000      1.000000      1.000000      2.000000   \n",
       "25%     -121.800000  119500.000000    296.000000     18.000000   1450.000000   \n",
       "50%     -118.490000  179700.000000    435.000000     29.000000   2127.000000   \n",
       "75%     -118.010000  264700.000000    647.000000     37.000000   3143.000000   \n",
       "max     -114.310000  500001.000000   6445.000000     52.000000  39320.000000   \n",
       "\n",
       "                 V7            V8            V9           V10  \n",
       "count  20433.000000  20433.000000  20433.000000  20433.000000  \n",
       "mean     499.433465   1424.946949     33.660475     35.633221  \n",
       "std      382.299226   1133.208490     21.859628      2.136348  \n",
       "min        1.000000      3.000000      0.499900     32.540000  \n",
       "25%      280.000000    787.000000     19.961000     33.930000  \n",
       "50%      409.000000   1166.000000     31.875000     34.260000  \n",
       "75%      604.000000   1722.000000     45.208000     37.720000  \n",
       "max     6082.000000  35682.000000    150.001000     41.950000  "
      ]
     },
     "execution_count": 10,
     "metadata": {},
     "output_type": "execute_result"
    }
   ],
   "source": [
    "df.describe()"
   ]
  },
  {
   "cell_type": "markdown",
   "metadata": {},
   "source": [
    "Neste ponto, observamos que:\n",
    "- Os dados apresentam escalas variadas, e portanto necessitarão de tratamento para deixá-los em uma mesma escala.\n",
    "- Vamos analisar o **boxplot** dos dados para entender melhor a distribuição:"
   ]
  },
  {
   "cell_type": "code",
   "execution_count": 11,
   "metadata": {},
   "outputs": [
    {
     "name": "stdout",
     "output_type": "stream",
     "text": [
      "-------- Visualizando os dados: V1 --------\n"
     ]
    },
    {
     "data": {
      "image/png": "[encoded data removed]",
      "text/plain": [
       "<Figure size 432x288 with 1 Axes>"
      ]
     },
     "metadata": {},
     "output_type": "display_data"
    },
    {
     "name": "stdout",
     "output_type": "stream",
     "text": [
      "-------- Visualizando os dados: V2 --------\n"
     ]
    },
    {
     "data": {
      "image/png": "[encoded data removed]",
      "text/plain": [
       "<Figure size 432x288 with 1 Axes>"
      ]
     },
     "metadata": {},
     "output_type": "display_data"
    },
    {
     "name": "stdout",
     "output_type": "stream",
     "text": [
      "-------- Visualizando os dados: V3 --------\n"
     ]
    },
    {
     "data": {
      "image/png": "[encoded data removed]",
      "text/plain": [
       "<Figure size 432x288 with 1 Axes>"
      ]
     },
     "metadata": {},
     "output_type": "display_data"
    },
    {
     "name": "stdout",
     "output_type": "stream",
     "text": [
      "-------- Visualizando os dados: V4 --------\n"
     ]
    },
    {
     "data": {
      "image/png": "[encoded data removed]",
      "text/plain": [
       "<Figure size 432x288 with 1 Axes>"
      ]
     },
     "metadata": {},
     "output_type": "display_data"
    },
    {
     "name": "stdout",
     "output_type": "stream",
     "text": [
      "-------- Visualizando os dados: V5 --------\n"
     ]
    },
    {
     "data": {
      "image/png": "[encoded data removed]",
      "text/plain": [
       "<Figure size 432x288 with 1 Axes>"
      ]
     },
     "metadata": {},
     "output_type": "display_data"
    },
    {
     "name": "stdout",
     "output_type": "stream",
     "text": [
      "-------- Visualizando os dados: V7 --------\n"
     ]
    },
    {
     "data": {
      "image/png": "[encoded data removed]",
      "text/plain": [
       "<Figure size 432x288 with 1 Axes>"
      ]
     },
     "metadata": {},
     "output_type": "display_data"
    },
    {
     "name": "stdout",
     "output_type": "stream",
     "text": [
      "-------- Visualizando os dados: V8 --------\n"
     ]
    },
    {
     "data": {
      "image/png": "[encoded data removed]",
      "text/plain": [
       "<Figure size 432x288 with 1 Axes>"
      ]
     },
     "metadata": {},
     "output_type": "display_data"
    },
    {
     "name": "stdout",
     "output_type": "stream",
     "text": [
      "-------- Visualizando os dados: V9 --------\n"
     ]
    },
    {
     "data": {
      "image/png": "[encoded data removed]",
      "text/plain": [
       "<Figure size 432x288 with 1 Axes>"
      ]
     },
     "metadata": {},
     "output_type": "display_data"
    },
    {
     "name": "stdout",
     "output_type": "stream",
     "text": [
      "-------- Visualizando os dados: V10 --------\n"
     ]
    },
    {
     "data": {
      "image/png": "[encoded data removed]",
      "text/plain": [
       "<Figure size 432x288 with 1 Axes>"
      ]
     },
     "metadata": {},
     "output_type": "display_data"
    }
   ],
   "source": [
    "colunas_numericas = ['V1','V2','V3','V4','V5','V7','V8','V9','V10',]\n",
    "for numcol in colunas_numericas:\n",
    "    print('-------- Visualizando os dados: {} --------'.format(numcol))\n",
    "    plt.boxplot(df[numcol])\n",
    "    plt.show();\n",
    "    \n",
    "plt.close()"
   ]
  },
  {
   "cell_type": "markdown",
   "metadata": {},
   "source": [
    "- De fato, observamos que as variáveis citadas, além da V9, apresentam distribuições desbalanceadas dos dados. Por este motivo, vamos aplicar a normalização nos dados para deixá-los em uma mesma escala:"
   ]
  },
  {
   "cell_type": "code",
   "execution_count": 12,
   "metadata": {},
   "outputs": [],
   "source": [
    "# vamos manter os dados originais da variável 'V2' armazenadas sem transformação, \n",
    "# para ser utilizada no regressor\n",
    "V2_orig = df['V2'].copy()\n",
    "\n",
    "# instanciando o transformador\n",
    "scaler = MinMaxScaler()\n",
    "\n",
    "# fazendo a transformação para as colunas numéricas\n",
    "for numcol in colunas_numericas:\n",
    "    df[numcol] = scaler.fit_transform(df[[numcol]])"
   ]
  },
  {
   "cell_type": "markdown",
   "metadata": {},
   "source": [
    "- Por fim, vamos tratar as variáveis categóricas, fazendo a transformação para variáveis *dummy*:"
   ]
  },
  {
   "cell_type": "code",
   "execution_count": 13,
   "metadata": {},
   "outputs": [],
   "source": [
    "df = pd.get_dummies(df, drop_first=True)"
   ]
  },
  {
   "cell_type": "markdown",
   "metadata": {},
   "source": [
    "### Visualizando os dados"
   ]
  },
  {
   "cell_type": "markdown",
   "metadata": {},
   "source": [
    "- Vamos tentar visualizar os dados, para ver se é possível notar algum padrão no cunjunto. Como temos muitas dimensões vamos usar o PCA para reduzir para 2, e imiprimir com um scatterplot."
   ]
  },
  {
   "cell_type": "code",
   "execution_count": 14,
   "metadata": {},
   "outputs": [],
   "source": [
    "pca = PCA(n_components=2)\n",
    "df_pca = pd.DataFrame(pca.fit_transform(df), columns=['PC1','PC2'])"
   ]
  },
  {
   "cell_type": "markdown",
   "metadata": {},
   "source": [
    "- É esperado que haja perda de informação no processe de transformação via PCA. Vamos entender, abaixo, quanto cada componente explica da variância original:"
   ]
  },
  {
   "cell_type": "code",
   "execution_count": 15,
   "metadata": {},
   "outputs": [
    {
     "name": "stdout",
     "output_type": "stream",
     "text": [
      "[0.39423066 0.21735552]\n"
     ]
    }
   ],
   "source": [
    "print(pca.explained_variance_ratio_)"
   ]
  },
  {
   "cell_type": "markdown",
   "metadata": {},
   "source": [
    "- Temos cerca de 60% da variância original explicada nos dois componentes. Tendo isto em mente, sabemos que a representação gráfica não será totalmente representativa, mas já dará uma boa ideia de quantos são os clusters de dados:"
   ]
  },
  {
   "cell_type": "code",
   "execution_count": 16,
   "metadata": {},
   "outputs": [
    {
     "data": {
      "text/plain": [
       "<matplotlib.collections.PathCollection at 0x1ef095b4860>"
      ]
     },
     "execution_count": 16,
     "metadata": {},
     "output_type": "execute_result"
    },
    {
     "data": {
      "image/png": "[encoded data removed]",
      "text/plain": [
       "<Figure size 432x288 with 1 Axes>"
      ]
     },
     "metadata": {},
     "output_type": "display_data"
    }
   ],
   "source": [
    "# imprimindo os componentes principais 1 e 2\n",
    "plt.scatter(df_pca['PC1'],df_pca['PC2'])"
   ]
  },
  {
   "cell_type": "markdown",
   "metadata": {},
   "source": [
    "- É possível notar alguns agrupamentos de dados. Temos claramente minimamente 3 clusters, mas aparentemente seria possível segregar melhor em mais alguns *clusters*. Devido à perda de informação, não conseguimos analisar mais a fundo estes *clusters* por meio do PCA."
   ]
  },
  {
   "cell_type": "markdown",
   "metadata": {},
   "source": [
    "### Clusterizando os Dados"
   ]
  },
  {
   "cell_type": "markdown",
   "metadata": {},
   "source": [
    "- Vamos tentar clusterizar os dados com os dois principais métodos utlizados, o KMeans e o DBScan. Para entender qual método apresenta o melhor resultado, vamos comparar o *shilhouette score* final de cada um dos métodos."
   ]
  },
  {
   "cell_type": "markdown",
   "metadata": {},
   "source": [
    "#### KMeans:"
   ]
  },
  {
   "cell_type": "code",
   "execution_count": 17,
   "metadata": {},
   "outputs": [
    {
     "name": "stderr",
     "output_type": "stream",
     "text": [
      "100%|██████████████████████████████████████████████████████████████████████████████████| 14/14 [02:00<00:00,  8.64s/it]\n"
     ]
    }
   ],
   "source": [
    "# aux var para entender qtd ideal de clusters\n",
    "scores = []\n",
    "\n",
    "# for para testar qtd ideal de clusters - testar de 2 a 15 clusters\n",
    "for i in tqdm(range(2,16)):\n",
    "    kmeans = KMeans(n_clusters=i).fit(df)\n",
    "       \n",
    "    # anexa o valor do silhouette_score\n",
    "    scores.append(silhouette_score(df.values, kmeans.labels_, metric='euclidean'))"
   ]
  },
  {
   "cell_type": "code",
   "execution_count": 18,
   "metadata": {},
   "outputs": [
    {
     "data": {
      "image/png": "[encoded data removed]",
      "text/plain": [
       "<Figure size 432x288 with 1 Axes>"
      ]
     },
     "metadata": {},
     "output_type": "display_data"
    }
   ],
   "source": [
    "# Visualizando qtd de Clusters pelo K-Means\n",
    "\n",
    "plt.figure(1)\n",
    "plt.bar(range(2,16), scores, align='center', alpha = 0.3)\n",
    "plt.title('Silhouette Score para cada Cluster')\n",
    "plt.show()"
   ]
  },
  {
   "cell_type": "markdown",
   "metadata": {},
   "source": [
    "- Com a clusterização via KMeans, vemos que a quantidade ideal de clusters é 4. O *silhouette score* obtido é de, aproximadamente, 0.53. Vamos clusterizar em 4 clusters e imprimir com o PCA:"
   ]
  },
  {
   "cell_type": "code",
   "execution_count": 28,
   "metadata": {},
   "outputs": [
    {
     "data": {
      "image/png": "[encoded data removed]",
      "text/plain": [
       "<Figure size 432x288 with 1 Axes>"
      ]
     },
     "metadata": {},
     "output_type": "display_data"
    }
   ],
   "source": [
    "# Visualizando a Clusterização com o KMeans\n",
    "\n",
    "kmeans = KMeans(n_clusters=4).fit(df)\n",
    "plt.scatter(df_pca['PC1'], df_pca['PC2'], c=kmeans.labels_);"
   ]
  },
  {
   "cell_type": "markdown",
   "metadata": {},
   "source": [
    "- Podemos notar que a clusterização via KMeans fez sentido, ao menos se visualizada pelos 2 componentes principais. O silhouette score é de:"
   ]
  },
  {
   "cell_type": "code",
   "execution_count": 20,
   "metadata": {},
   "outputs": [
    {
     "data": {
      "text/plain": [
       "0.5261012144319994"
      ]
     },
     "execution_count": 20,
     "metadata": {},
     "output_type": "execute_result"
    }
   ],
   "source": [
    "silhouette_score(df.values, kmeans.labels_, metric='euclidean')"
   ]
  },
  {
   "cell_type": "markdown",
   "metadata": {},
   "source": [
    "#### DBScan:"
   ]
  },
  {
   "cell_type": "markdown",
   "metadata": {},
   "source": [
    "- Para realizar a clusterização com DBScan, primeiramente precisamos ter uma noção do valor do epsilon. Para tanto"
   ]
  },
  {
   "cell_type": "code",
   "execution_count": 21,
   "metadata": {},
   "outputs": [],
   "source": [
    "#Selecionando o melhor valor para o eps\n",
    "neigh = NearestNeighbors(n_neighbors=2)\n",
    "nbrs = neigh.fit(df)\n",
    "distances, indices = nbrs.kneighbors(df)"
   ]
  },
  {
   "cell_type": "code",
   "execution_count": 22,
   "metadata": {},
   "outputs": [
    {
     "data": {
      "image/png": "[encoded data removed]",
      "text/plain": [
       "<Figure size 432x288 with 1 Axes>"
      ]
     },
     "metadata": {},
     "output_type": "display_data"
    }
   ],
   "source": [
    "distances = np.sort(distances, axis=0)\n",
    "\n",
    "distances = distances[:,1]\n",
    "plt.plot(distances)\n",
    "plt.title('View das distâncias')\n",
    "plt.show()"
   ]
  },
  {
   "cell_type": "markdown",
   "metadata": {},
   "source": [
    "- Aparentemente, o epsilon de 0.15 é o ideal para este problema, dado ser o limite antes da explosão. Agora, vamos explorar a quantidade mínima de amostras, também considerando o *silhouette score* como parâmetro de qualidade da clusterização:"
   ]
  },
  {
   "cell_type": "code",
   "execution_count": 23,
   "metadata": {},
   "outputs": [
    {
     "name": "stderr",
     "output_type": "stream",
     "text": [
      "100%|██████████████████████████████████████████████████████████████████████████████████| 13/13 [03:33<00:00, 16.40s/it]\n"
     ]
    }
   ],
   "source": [
    "# aux var para entender a qtd mínima de amostras\n",
    "scores = []\n",
    "\n",
    "# for para testar qtd ideal mínima de amostras\n",
    "for i in tqdm(range(2,15)):\n",
    "    db = DBSCAN(eps=0.2, min_samples=i).fit(df)\n",
    "    # anexa o valor do silhouette_score\n",
    "    scores.append(silhouette_score(df, db.labels_))"
   ]
  },
  {
   "cell_type": "code",
   "execution_count": 27,
   "metadata": {},
   "outputs": [
    {
     "data": {
      "image/png": "[encoded data removed]",
      "text/plain": [
       "<Figure size 432x288 with 1 Axes>"
      ]
     },
     "metadata": {},
     "output_type": "display_data"
    }
   ],
   "source": [
    "# Visualizando o Silhouette Score pela quantidade de amostras\n",
    "\n",
    "plt.figure()\n",
    "plt.bar(range(2,15), scores, align='center', alpha = 0.3)\n",
    "plt.title('Silhouette Score para para min_samples entre 2 e 14')\n",
    "plt.xlabel('# min_samples')\n",
    "plt.ylabel('Score calculado')\n",
    "plt.show()"
   ]
  },
  {
   "cell_type": "markdown",
   "metadata": {},
   "source": [
    "- Vemos que, pelo DBScan, a quantidade ideal de amostras é 7. Visualizando os dados clusterizados desta forma no PCA:"
   ]
  },
  {
   "cell_type": "code",
   "execution_count": 29,
   "metadata": {},
   "outputs": [
    {
     "data": {
      "image/png": "[encoded data removed]",
      "text/plain": [
       "<Figure size 432x288 with 1 Axes>"
      ]
     },
     "metadata": {},
     "output_type": "display_data"
    }
   ],
   "source": [
    "db = DBSCAN(eps=0.2, min_samples=7).fit(df)\n",
    "plt.scatter(df_pca['PC1'], df_pca['PC2'], c=db.labels_);"
   ]
  },
  {
   "cell_type": "code",
   "execution_count": 42,
   "metadata": {},
   "outputs": [
    {
     "name": "stdout",
     "output_type": "stream",
     "text": [
      "Labels:  dict_keys([0, -1, 1, 2, 3, 4])\n",
      "Totais:  dict_values([2253, 233, 8975, 6401, 109, 2462])\n"
     ]
    }
   ],
   "source": [
    "print('Labels: ', Counter(list(db.labels_)).keys())\n",
    "print('Totais: ', Counter(list(db.labels_)).values())"
   ]
  },
  {
   "cell_type": "markdown",
   "metadata": {},
   "source": [
    "- Vemos que pelo método do DBScan, a quantidade de clusters é 5, além dos resíduos."
   ]
  },
  {
   "cell_type": "markdown",
   "metadata": {},
   "source": [
    "- Comparando os resultados obtidos com os métodos do KMeans e do DBScan, temos o desempenho um pouco mais vantajoso do KMeans, com o *shilhouette score* de cerca de 0.53, enquanto que com o DBScan obtivemos cerca de 0.51. Além disto, visualmente, a classificação fez mais sentido com o KMeans (embora haja o fator da perda de informação devida à redução de dimensionalidade). **Desta forma, optamos por fazer a clusterização com o KMeans**:"
   ]
  },
  {
   "cell_type": "code",
   "execution_count": 17,
   "metadata": {},
   "outputs": [],
   "source": [
    "# criando coluna do cluster no dataframe:\n",
    "kmeans = KMeans(n_clusters=4).fit(df)\n",
    "df['cluster'] = kmeans.labels_"
   ]
  },
  {
   "cell_type": "code",
   "execution_count": 18,
   "metadata": {},
   "outputs": [
    {
     "data": {
      "text/plain": [
       "1    9039\n",
       "0    6496\n",
       "3    2628\n",
       "2    2270\n",
       "Name: cluster, dtype: int64"
      ]
     },
     "execution_count": 18,
     "metadata": {},
     "output_type": "execute_result"
    }
   ],
   "source": [
    "df.cluster.value_counts()"
   ]
  },
  {
   "cell_type": "markdown",
   "metadata": {},
   "source": [
    "### Classificador"
   ]
  },
  {
   "cell_type": "markdown",
   "metadata": {},
   "source": [
    "- Vamos agora criar um classificador para novos dados, que classifique em uma das 4 classes do dataframe criadas pelo KMeans.\n",
    "- Primeiramente, vamos testar os principais classificadores (KNN, Naive Bayes, Árvore de Decisão e SVM) em sua configuração padrão, e obter o de melhor acurácia, dado que não há grande desbalanceamento entre as classes observadas. Após selecionar o melhor modelo, faremos o *tunning* dos parâmetros para obter o melhor modelo possível."
   ]
  },
  {
   "cell_type": "markdown",
   "metadata": {},
   "source": [
    "#### Divisão dos Dados em Treino e Teste:"
   ]
  },
  {
   "cell_type": "code",
   "execution_count": 19,
   "metadata": {},
   "outputs": [],
   "source": [
    "X = df[df.columns[:13]]\n",
    "y = df[df.columns[13]]"
   ]
  },
  {
   "cell_type": "code",
   "execution_count": 20,
   "metadata": {},
   "outputs": [],
   "source": [
    "# mantendo 30% dos dados segregados para teste e 70% para treino:\n",
    "X_train, X_test, y_train, y_test = train_test_split(X, y, test_size = .3, random_state=42)"
   ]
  },
  {
   "cell_type": "markdown",
   "metadata": {},
   "source": [
    "#### KNN:"
   ]
  },
  {
   "cell_type": "markdown",
   "metadata": {},
   "source": [
    "- Treinando o modelo:"
   ]
  },
  {
   "cell_type": "code",
   "execution_count": 28,
   "metadata": {},
   "outputs": [
    {
     "data": {
      "text/plain": [
       "KNeighborsClassifier()"
      ]
     },
     "execution_count": 28,
     "metadata": {},
     "output_type": "execute_result"
    }
   ],
   "source": [
    "# Treina o Modelo\n",
    "\n",
    "KNN_classifier = KNeighborsClassifier()\n",
    "KNN_classifier.fit(X_train, y_train)"
   ]
  },
  {
   "cell_type": "markdown",
   "metadata": {},
   "source": [
    "- Avaliando o modelo:"
   ]
  },
  {
   "cell_type": "code",
   "execution_count": 29,
   "metadata": {},
   "outputs": [
    {
     "name": "stdout",
     "output_type": "stream",
     "text": [
      "Acurácia do Modelo:  1.0\n"
     ]
    }
   ],
   "source": [
    "# faz as predições\n",
    "y_pred = KNN_classifier.predict(X_test)\n",
    "\n",
    "# imprime a acurácia:\n",
    "print('Acurácia do Modelo: ', accuracy_score(y_test, y_pred))"
   ]
  },
  {
   "cell_type": "markdown",
   "metadata": {},
   "source": [
    "- Visualizando a matriz de confusão:"
   ]
  },
  {
   "cell_type": "code",
   "execution_count": 30,
   "metadata": {},
   "outputs": [
    {
     "data": {
      "image/png": "[encoded data removed]",
      "text/plain": [
       "<Figure size 432x288 with 2 Axes>"
      ]
     },
     "metadata": {},
     "output_type": "display_data"
    }
   ],
   "source": [
    "plot_confusion_matrix(KNN_classifier, X_test, y_test);"
   ]
  },
  {
   "cell_type": "markdown",
   "metadata": {},
   "source": [
    "- Estranhamente, a acurácia do modelo foi de 100%, sem errar uma classificação sequer. Isto é extremamente raro em ML. Vamos comparar com o desempenho dos demais modelos a seguir e ver se temos situação similar."
   ]
  },
  {
   "cell_type": "markdown",
   "metadata": {},
   "source": [
    "#### Naive Bayes:"
   ]
  },
  {
   "cell_type": "markdown",
   "metadata": {},
   "source": [
    "- Treinando o modelo:"
   ]
  },
  {
   "cell_type": "code",
   "execution_count": 83,
   "metadata": {},
   "outputs": [
    {
     "data": {
      "text/plain": [
       "GaussianNB()"
      ]
     },
     "execution_count": 83,
     "metadata": {},
     "output_type": "execute_result"
    }
   ],
   "source": [
    "# Treina o Modelo\n",
    "nb_classifier = GaussianNB()\n",
    "nb_classifier.fit(X_train, y_train)"
   ]
  },
  {
   "cell_type": "markdown",
   "metadata": {},
   "source": [
    "- Avaliando o modelo:"
   ]
  },
  {
   "cell_type": "code",
   "execution_count": 84,
   "metadata": {},
   "outputs": [
    {
     "name": "stdout",
     "output_type": "stream",
     "text": [
      "Acurácia do Modelo:  1.0\n"
     ]
    }
   ],
   "source": [
    "# faz as predições\n",
    "y_pred = nb_classifier.predict(X_test)\n",
    "\n",
    "# imprime a acurácia:\n",
    "print('Acurácia do Modelo: ', accuracy_score(y_test, y_pred))"
   ]
  },
  {
   "cell_type": "markdown",
   "metadata": {},
   "source": [
    "- Visualizando a matriz de confusão:"
   ]
  },
  {
   "cell_type": "code",
   "execution_count": 87,
   "metadata": {},
   "outputs": [
    {
     "data": {
      "image/png": "[encoded data removed]",
      "text/plain": [
       "<Figure size 432x288 with 2 Axes>"
      ]
     },
     "metadata": {},
     "output_type": "display_data"
    }
   ],
   "source": [
    "plot_confusion_matrix(nb_classifier, X_test, y_test);"
   ]
  },
  {
   "cell_type": "markdown",
   "metadata": {},
   "source": [
    "- Da mesma forma que para o caso do KNN, a acurácia do modelo foi de 100%, sem errar uma classificação sequer."
   ]
  },
  {
   "cell_type": "markdown",
   "metadata": {},
   "source": [
    "#### Árvore de Decisão:"
   ]
  },
  {
   "cell_type": "markdown",
   "metadata": {},
   "source": [
    "- Treinando o modelo:"
   ]
  },
  {
   "cell_type": "code",
   "execution_count": 89,
   "metadata": {},
   "outputs": [
    {
     "data": {
      "text/plain": [
       "DecisionTreeClassifier()"
      ]
     },
     "execution_count": 89,
     "metadata": {},
     "output_type": "execute_result"
    }
   ],
   "source": [
    "# treina o modelo\n",
    "tree_classifier = DecisionTreeClassifier()\n",
    "tree_classifier.fit(X_train, y_train)"
   ]
  },
  {
   "cell_type": "markdown",
   "metadata": {},
   "source": [
    "- Avaliando o modelo:"
   ]
  },
  {
   "cell_type": "code",
   "execution_count": 94,
   "metadata": {},
   "outputs": [
    {
     "name": "stdout",
     "output_type": "stream",
     "text": [
      "Acurácia do Modelo:  1.0\n"
     ]
    }
   ],
   "source": [
    "# faz as predições\n",
    "y_pred = tree_classifier.predict(X_test)\n",
    "\n",
    "# imprime a acurácia:\n",
    "print('Acurácia do Modelo: ', accuracy_score(y_test, y_pred))"
   ]
  },
  {
   "cell_type": "markdown",
   "metadata": {},
   "source": [
    "- Visualizando a matriz de confusão:"
   ]
  },
  {
   "cell_type": "code",
   "execution_count": 95,
   "metadata": {},
   "outputs": [
    {
     "data": {
      "image/png": "[encoded data removed]",
      "text/plain": [
       "<Figure size 432x288 with 2 Axes>"
      ]
     },
     "metadata": {},
     "output_type": "display_data"
    }
   ],
   "source": [
    "plot_confusion_matrix(tree_classifier, X_test, y_test);"
   ]
  },
  {
   "cell_type": "markdown",
   "metadata": {},
   "source": [
    "- Da mesma forma que os classificadores anteriores, a acurácia foi 100%."
   ]
  },
  {
   "cell_type": "markdown",
   "metadata": {},
   "source": [
    "#### SMV"
   ]
  },
  {
   "cell_type": "markdown",
   "metadata": {},
   "source": [
    "- Treinando o modelo"
   ]
  },
  {
   "cell_type": "code",
   "execution_count": 97,
   "metadata": {},
   "outputs": [
    {
     "data": {
      "text/plain": [
       "SVC()"
      ]
     },
     "execution_count": 97,
     "metadata": {},
     "output_type": "execute_result"
    }
   ],
   "source": [
    "svc_classifier = SVC()\n",
    "svc_classifier.fit(X_train, y_train)"
   ]
  },
  {
   "cell_type": "markdown",
   "metadata": {},
   "source": [
    "- Avaliando o modelo"
   ]
  },
  {
   "cell_type": "code",
   "execution_count": 99,
   "metadata": {},
   "outputs": [
    {
     "name": "stdout",
     "output_type": "stream",
     "text": [
      "Acurácia do Modelo:  1.0\n"
     ]
    }
   ],
   "source": [
    "# faz as predições\n",
    "y_pred = svc_classifier.predict(X_test)\n",
    "\n",
    "# imprime a acurácia:\n",
    "print('Acurácia do Modelo: ', accuracy_score(y_test, y_pred))"
   ]
  },
  {
   "cell_type": "code",
   "execution_count": 100,
   "metadata": {},
   "outputs": [
    {
     "data": {
      "image/png": "[encoded data removed]",
      "text/plain": [
       "<Figure size 432x288 with 2 Axes>"
      ]
     },
     "metadata": {},
     "output_type": "display_data"
    }
   ],
   "source": [
    "plot_confusion_matrix(svc_classifier, X_test, y_test);"
   ]
  },
  {
   "cell_type": "markdown",
   "metadata": {},
   "source": [
    "- Também foi obtido um modelo com 100% de acurácia"
   ]
  },
  {
   "cell_type": "markdown",
   "metadata": {},
   "source": [
    "#### Conclusão:"
   ]
  },
  {
   "cell_type": "markdown",
   "metadata": {},
   "source": [
    "Dado que todos os modelos treinados tiveram 100% de acurácia, não foi necessário fazer o *tunning* dos hiperparâmetros. Também, uma vez que todos os modelos tiveram igual desempenho, optaríamos, caso necessário, por utilizar o **classificador Naive Bayes**, que é bastante leve rápido."
   ]
  },
  {
   "cell_type": "markdown",
   "metadata": {},
   "source": [
    " "
   ]
  },
  {
   "cell_type": "markdown",
   "metadata": {},
   "source": [
    " "
   ]
  },
  {
   "cell_type": "markdown",
   "metadata": {},
   "source": [
    "### Regressor"
   ]
  },
  {
   "cell_type": "markdown",
   "metadata": {},
   "source": [
    "- O exercício solicitou a criação de um regressor a partir da variável V2. Vamos adotar a mesma estratégia que para os classificadores: treinar os principais modelos sem definição de parâmetros e, com o melhor regressor, fazer o *tunning* dos parâmetros, para buscar o melhor regressor possível. Vamos procurar otimizar o RMSE (Raiz do Erro Médio Quadrático)\n",
    "- Porém, primeiramente é necessário segregar novamente os dados em treino e teste, dado que a variável target passa a ser outra, e a escala da mesma foi reduzida."
   ]
  },
  {
   "cell_type": "markdown",
   "metadata": {},
   "source": [
    "#### Tratamento dos Dados"
   ]
  },
  {
   "cell_type": "markdown",
   "metadata": {},
   "source": [
    "- Primeiramente, vamos selecionar as *features* e armazená-las em uma variável chamada *X_regressor*. Quanto à variável *target*, vamos resgatar o valor original da mesma, que foi armazenada em uma variável chamada *V2_orig*"
   ]
  },
  {
   "cell_type": "code",
   "execution_count": 17,
   "metadata": {},
   "outputs": [],
   "source": [
    "X_regressor = df[['V1', 'V3', 'V4', 'V5', 'V7', 'V8', 'V9', 'V10', 'V6_B', 'V6_C', 'V6_D', 'V6_E']]\n",
    "y_regressor = V2_orig"
   ]
  },
  {
   "cell_type": "markdown",
   "metadata": {},
   "source": [
    "#### Divisão dos Dados em Treino e Teste"
   ]
  },
  {
   "cell_type": "code",
   "execution_count": 18,
   "metadata": {},
   "outputs": [],
   "source": [
    "# mantendo 30% dos dados segregados para teste e 70% para treino:\n",
    "X_train, X_test, y_train, y_test = train_test_split(X_regressor, y_regressor, \n",
    "                                                    test_size = .3, random_state=42)"
   ]
  },
  {
   "cell_type": "markdown",
   "metadata": {},
   "source": [
    "#### Treino dos Regressores"
   ]
  },
  {
   "cell_type": "code",
   "execution_count": 19,
   "metadata": {},
   "outputs": [
    {
     "name": "stdout",
     "output_type": "stream",
     "text": [
      "LR: -79949.282748 (2532.423296)\n",
      "RD: -80113.972562 (1648.961747)\n",
      "LS: -79944.514676 (2510.268551)\n",
      "EL: -106451.399984 (1938.549311)\n",
      "KNN: -67273.818755 (985.475220)\n",
      "DTR: -71029.078926 (1263.589526)\n",
      "RF: -50450.630468 (1046.073657)\n",
      "ADA: -88600.439596 (3900.264948)\n",
      "SVR: -117965.097825 (1882.785701)\n"
     ]
    }
   ],
   "source": [
    "# cria diversos pipelines com os principais regressores\n",
    "pipelines = []\n",
    "pipelines.append(('LR', Pipeline([('LR', LinearRegression())])))\n",
    "pipelines.append(('RD', Pipeline([('RD', Ridge())])))\n",
    "pipelines.append(('LS', Pipeline([('LS', Lasso())])))\n",
    "pipelines.append(('EL', Pipeline([('EL', ElasticNet())])))\n",
    "pipelines.append(('KNN', Pipeline([('KNN', KNeighborsRegressor())])))\n",
    "pipelines.append(('DTR', Pipeline([('DTR', DecisionTreeRegressor())])))\n",
    "pipelines.append(('RF', Pipeline([('RF', RandomForestRegressor())])))\n",
    "pipelines.append(('ADA', Pipeline([('ADA', AdaBoostRegressor())])))\n",
    "pipelines.append(('SVR', Pipeline([('SVR', SVR())])))\n",
    "\n",
    "# listas para medir os resultados - vamos usar 5 folds\n",
    "results = []\n",
    "names = []\n",
    "\n",
    "# 5 folds para cross validation\n",
    "num_folds = 5\n",
    "seed = 42\n",
    "RMSE = 'neg_root_mean_squared_error'\n",
    "\n",
    "for name, model in pipelines:\n",
    "    kfold = KFold(n_splits=num_folds, random_state=seed, shuffle = True)\n",
    "    cv_results = cross_val_score(model, X_train, y_train, cv=kfold, scoring=RMSE)\n",
    "    results.append(cv_results)\n",
    "    names.append(name)\n",
    "    msg = \"%s: %f (%f)\" % (name, cv_results.mean(), cv_results.std())\n",
    "    print(msg)"
   ]
  },
  {
   "cell_type": "code",
   "execution_count": 20,
   "metadata": {},
   "outputs": [
    {
     "data": {
      "image/png": "[encoded data removed]",
      "text/plain": [
       "<Figure size 432x288 with 1 Axes>"
      ]
     },
     "metadata": {},
     "output_type": "display_data"
    }
   ],
   "source": [
    "# Comparando os Algorítimos\n",
    "fig = plt.figure()\n",
    "fig.suptitle('Algorithm Comparison - RMSE')\n",
    "ax = fig.add_subplot(111)\n",
    "plt.boxplot(results)\n",
    "ax.set_xticklabels(names)\n",
    "plt.show()"
   ]
  },
  {
   "cell_type": "markdown",
   "metadata": {},
   "source": [
    "- Vemos que o melhor regressor, nas configurações padrão, foi o Random Forest Regressor (RF), com um RMSE médio de 50k, consideravelmente melhor que o KNN, que obteve o segundo melhor desempenho. O desvio padrão obtido foi um pouco acima para o RF, mas próximo. Desta forma, vamos tentar **otimizar o RF para chegarmos no melhor regressor possível**\n",
    "- Para tanto, vamos vamos utilizar o GridSearch, e buscar a melhor combinação de parâmetros para o Regressor Random Forest"
   ]
  },
  {
   "cell_type": "code",
   "execution_count": 21,
   "metadata": {},
   "outputs": [
    {
     "name": "stdout",
     "output_type": "stream",
     "text": [
      "Fitting 3 folds for each of 12 candidates, totalling 36 fits\n"
     ]
    },
    {
     "name": "stderr",
     "output_type": "stream",
     "text": [
      "[Parallel(n_jobs=-1)]: Using backend LokyBackend with 4 concurrent workers.\n",
      "[Parallel(n_jobs=-1)]: Done  24 tasks      | elapsed:  1.5min\n",
      "[Parallel(n_jobs=-1)]: Done  36 out of  36 | elapsed:  2.2min finished\n"
     ]
    },
    {
     "data": {
      "text/plain": [
       "GridSearchCV(cv=3, estimator=RandomForestRegressor(), n_jobs=-1,\n",
       "             param_grid={'max_depth': [None, 5, 10],\n",
       "                         'min_samples_split': [2, 4],\n",
       "                         'n_estimators': [100, 300]},\n",
       "             scoring='neg_root_mean_squared_error', verbose=3)"
      ]
     },
     "execution_count": 21,
     "metadata": {},
     "output_type": "execute_result"
    }
   ],
   "source": [
    "scoring='neg_root_mean_squared_error'\n",
    "\n",
    "parameters = {'n_estimators':[100,300], \n",
    "              'max_depth':[None, 5, 10],\n",
    "              'min_samples_split':[2,4],\n",
    "             }\n",
    "rfr = RandomForestRegressor()\n",
    "clf = GridSearchCV(estimator=rfr, \n",
    "                   param_grid=parameters,\n",
    "                   cv=3,\n",
    "                   scoring=scoring,\n",
    "                   n_jobs=-1,\n",
    "                   verbose=3\n",
    "                  )\n",
    "clf.fit(X_train, y_train)"
   ]
  },
  {
   "cell_type": "markdown",
   "metadata": {},
   "source": [
    "- O melhor estimador que obtivemos foi"
   ]
  },
  {
   "cell_type": "code",
   "execution_count": 23,
   "metadata": {},
   "outputs": [
    {
     "data": {
      "text/plain": [
       "{'bootstrap': True,\n",
       " 'ccp_alpha': 0.0,\n",
       " 'criterion': 'mse',\n",
       " 'max_depth': None,\n",
       " 'max_features': 'auto',\n",
       " 'max_leaf_nodes': None,\n",
       " 'max_samples': None,\n",
       " 'min_impurity_decrease': 0.0,\n",
       " 'min_impurity_split': None,\n",
       " 'min_samples_leaf': 1,\n",
       " 'min_samples_split': 4,\n",
       " 'min_weight_fraction_leaf': 0.0,\n",
       " 'n_estimators': 300,\n",
       " 'n_jobs': None,\n",
       " 'oob_score': False,\n",
       " 'random_state': None,\n",
       " 'verbose': 0,\n",
       " 'warm_start': False}"
      ]
     },
     "execution_count": 23,
     "metadata": {},
     "output_type": "execute_result"
    }
   ],
   "source": [
    "clf.best_estimator_.get_params()"
   ]
  },
  {
   "cell_type": "markdown",
   "metadata": {},
   "source": [
    "- E seu score, baseado no *cross validation*:"
   ]
  },
  {
   "cell_type": "code",
   "execution_count": 24,
   "metadata": {},
   "outputs": [
    {
     "data": {
      "text/plain": [
       "-51270.529091541655"
      ]
     },
     "execution_count": 24,
     "metadata": {},
     "output_type": "execute_result"
    }
   ],
   "source": [
    "clf.best_score_"
   ]
  },
  {
   "cell_type": "markdown",
   "metadata": {},
   "source": [
    "- Vemos que o resultado foi bastante próximo do já obtido com os valores padrão do Regressor Random Forest. Para medirmos nos dados de teste:"
   ]
  },
  {
   "cell_type": "code",
   "execution_count": 30,
   "metadata": {},
   "outputs": [
    {
     "name": "stdout",
     "output_type": "stream",
     "text": [
      "49459.80726858921\n"
     ]
    }
   ],
   "source": [
    "RMSE_teste = math.sqrt(mean_squared_error(y_test, clf.predict(X_test)))\n",
    "print(RMSE_teste)"
   ]
  },
  {
   "cell_type": "markdown",
   "metadata": {},
   "source": [
    "- Vemos que o RMSE é próximo dos valores obtidos para treino, o que é bom. Para termos uma melhor ideia de o quanto este valor realmente é próximo dos valores reais, uma vez que o RMSE está na mesma base que os dados de teste, podemos compará-los. Vamos comparar com o valor médio dos dados de teste:"
   ]
  },
  {
   "cell_type": "code",
   "execution_count": 32,
   "metadata": {},
   "outputs": [
    {
     "data": {
      "text/plain": [
       "0.7597702592975192"
      ]
     },
     "execution_count": 32,
     "metadata": {},
     "output_type": "execute_result"
    }
   ],
   "source": [
    "1 - RMSE_teste/y_test.mean()"
   ]
  },
  {
   "cell_type": "markdown",
   "metadata": {},
   "source": [
    "- Ou seja, o RMSE dos dados preditos é cerca de 75% próximo do **valor médio** dos dados reais."
   ]
  },
  {
   "cell_type": "markdown",
   "metadata": {},
   "source": [
    "- Se plotarmos visualmente, com os dados reais no eixo X e os dados preditos no eixo Y:"
   ]
  },
  {
   "cell_type": "code",
   "execution_count": 37,
   "metadata": {},
   "outputs": [
    {
     "data": {
      "image/png": "[encoded data removed]",
      "text/plain": [
       "<Figure size 432x288 with 1 Axes>"
      ]
     },
     "metadata": {},
     "output_type": "display_data"
    }
   ],
   "source": [
    "plt.scatter(y_test, clf.predict(X_test));"
   ]
  },
  {
   "cell_type": "markdown",
   "metadata": {},
   "source": [
    "- Caso a predição fosse perfeita, teríamos uma linha diagonal entre os dados reais e preditos. Como esperado, os dados apresentam uma variação, mas é possível observar o comportamento diagonal citado."
   ]
  }
 ],
 "metadata": {
  "kernelspec": {
   "display_name": "Python 3",
   "language": "python",
   "name": "python3"
  },
  "language_info": {
   "codemirror_mode": {
    "name": "ipython",
    "version": 3
   },
   "file_extension": ".py",
   "mimetype": "text/x-python",
   "name": "python",
   "nbconvert_exporter": "python",
   "pygments_lexer": "ipython3",
   "version": "3.6.5"
  }
 },
 "nbformat": 4,
 "nbformat_minor": 2
}
